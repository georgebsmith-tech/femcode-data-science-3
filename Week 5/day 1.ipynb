{
 "cells": [
  {
   "cell_type": "markdown",
   "metadata": {},
   "source": [
    "## While loop"
   ]
  },
  {
   "cell_type": "code",
   "execution_count": null,
   "metadata": {},
   "outputs": [],
   "source": [
    "# while cond:\n",
    "#     somethoing to happen if true\n",
    "\n",
    "x=12\n",
    "while x>2:\n",
    "    print(\"It is true\")"
   ]
  },
  {
   "cell_type": "code",
   "execution_count": 1,
   "metadata": {},
   "outputs": [
    {
     "name": "stdout",
     "output_type": "stream",
     "text": [
      "It is true\n",
      "It is true\n",
      "It is true\n"
     ]
    }
   ],
   "source": [
    "x=12\n",
    "while x>2:\n",
    "    print(\"It is true\")\n",
    "    x=x/2"
   ]
  },
  {
   "cell_type": "code",
   "execution_count": 2,
   "metadata": {},
   "outputs": [
    {
     "ename": "NameError",
     "evalue": "name 'number' is not defined",
     "output_type": "error",
     "traceback": [
      "\u001b[1;31m---------------------------------------------------------------------------\u001b[0m",
      "\u001b[1;31mNameError\u001b[0m                                 Traceback (most recent call last)",
      "\u001b[1;32m<ipython-input-2-339793869075>\u001b[0m in \u001b[0;36m<module>\u001b[1;34m\u001b[0m\n\u001b[0;32m      1\u001b[0m \u001b[0mlist_of_numbers\u001b[0m\u001b[1;33m=\u001b[0m\u001b[1;33m[\u001b[0m\u001b[1;33m]\u001b[0m\u001b[1;33m\u001b[0m\u001b[1;33m\u001b[0m\u001b[0m\n\u001b[1;32m----> 2\u001b[1;33m \u001b[1;32mwhile\u001b[0m \u001b[0mnumber\u001b[0m\u001b[1;33m>=\u001b[0m\u001b[1;36m0\u001b[0m\u001b[1;33m:\u001b[0m\u001b[1;33m\u001b[0m\u001b[1;33m\u001b[0m\u001b[0m\n\u001b[0m\u001b[0;32m      3\u001b[0m     \u001b[0mnumber\u001b[0m\u001b[1;33m=\u001b[0m\u001b[0mfloat\u001b[0m\u001b[1;33m(\u001b[0m\u001b[0minput\u001b[0m\u001b[1;33m(\u001b[0m\u001b[1;34m\"Enter a number: \"\u001b[0m\u001b[1;33m)\u001b[0m\u001b[1;33m)\u001b[0m\u001b[1;33m\u001b[0m\u001b[1;33m\u001b[0m\u001b[0m\n\u001b[0;32m      4\u001b[0m     \u001b[0mlist_of_numbers\u001b[0m\u001b[1;33m.\u001b[0m\u001b[0mappend\u001b[0m\u001b[1;33m(\u001b[0m\u001b[0mnumber\u001b[0m\u001b[1;33m)\u001b[0m\u001b[1;33m\u001b[0m\u001b[1;33m\u001b[0m\u001b[0m\n\u001b[0;32m      5\u001b[0m \u001b[0mprint\u001b[0m\u001b[1;33m(\u001b[0m\u001b[0mlist_of_numbers\u001b[0m\u001b[1;33m)\u001b[0m\u001b[1;33m\u001b[0m\u001b[1;33m\u001b[0m\u001b[0m\n",
      "\u001b[1;31mNameError\u001b[0m: name 'number' is not defined"
     ]
    }
   ],
   "source": [
    "list_of_numbers=[]\n",
    "while number>=0:\n",
    "    number=float(input(\"Enter a number: \"))\n",
    "    list_of_numbers.append(number)\n",
    "print(list_of_numbers)\n",
    "    "
   ]
  },
  {
   "cell_type": "code",
   "execution_count": 5,
   "metadata": {},
   "outputs": [
    {
     "name": "stdout",
     "output_type": "stream",
     "text": [
      "Enter a number: 12\n",
      "Enter a number: 3\n",
      "Enter a number: 23\n",
      "Enter a number: -12\n",
      "[12.0, 3.0, 23.0, -12.0]\n"
     ]
    }
   ],
   "source": [
    "list_of_numbers=[]\n",
    "number=1\n",
    "while number>=0:\n",
    "    number=float(input(\"Enter a number: \"))\n",
    "    list_of_numbers.append(number)\n",
    "print(list_of_numbers)"
   ]
  },
  {
   "cell_type": "code",
   "execution_count": 6,
   "metadata": {},
   "outputs": [
    {
     "name": "stdout",
     "output_type": "stream",
     "text": [
      "Enter a number: 12\n",
      "Enter a number: 67\n",
      "Enter a number: 34\n",
      "Enter a number: 0\n",
      "Enter a number: -100\n",
      "[12.0, 67.0, 34.0, 0.0]\n"
     ]
    }
   ],
   "source": [
    "list_of_numbers=[]\n",
    "number=1\n",
    "while number>=0:\n",
    "    number=float(input(\"Enter a number: \"))\n",
    "    list_of_numbers.append(number)\n",
    "list_of_numbers.pop()\n",
    "print(list_of_numbers)"
   ]
  },
  {
   "cell_type": "code",
   "execution_count": 7,
   "metadata": {},
   "outputs": [
    {
     "name": "stdout",
     "output_type": "stream",
     "text": [
      "Enter a number: 12\n",
      "Enter a number: 34\n",
      "Enter a number: 0\n",
      "Enter a number: -3\n",
      "[12.0, 34.0, 0.0]\n"
     ]
    }
   ],
   "source": [
    "list_of_numbers=[]\n",
    "while True:\n",
    "    number=float(input(\"Enter a number: \"))\n",
    "    if number <0:\n",
    "        break\n",
    "    else:\n",
    "        list_of_numbers.append(number)\n",
    "print(list_of_numbers)"
   ]
  },
  {
   "cell_type": "code",
   "execution_count": 12,
   "metadata": {},
   "outputs": [
    {
     "name": "stdout",
     "output_type": "stream",
     "text": [
      "Enter name: a\n",
      "Enter Age: 34\n",
      "Enter name: b\n",
      "Enter Age: 13\n",
      "Enter name:            \n",
      "[['a', 200], ['b', 30]]\n"
     ]
    }
   ],
   "source": [
    "fee=[]\n",
    "while True:\n",
    "    name=input(\"Enter name: \")\n",
    "    if name.strip()==\"\":\n",
    "        break\n",
    "    age=int(input(\"Enter Age: \"))\n",
    "    if age>=0 and age<=16:\n",
    "        fee.append([name,30])\n",
    "    elif age>=17 and age<=35:\n",
    "        fee.append([name,200])\n",
    "print(fee)"
   ]
  },
  {
   "cell_type": "code",
   "execution_count": 8,
   "metadata": {},
   "outputs": [
    {
     "data": {
      "text/plain": [
       "'bhdhhdd     '"
      ]
     },
     "execution_count": 8,
     "metadata": {},
     "output_type": "execute_result"
    }
   ],
   "source": [
    "\"bhdhhdd     \""
   ]
  },
  {
   "cell_type": "code",
   "execution_count": 10,
   "metadata": {},
   "outputs": [
    {
     "data": {
      "text/plain": [
       "'vbcdjds sdhd'"
      ]
     },
     "execution_count": 10,
     "metadata": {},
     "output_type": "execute_result"
    }
   ],
   "source": [
    "\"      vbcdjds sdhd      \".strip()"
   ]
  },
  {
   "cell_type": "code",
   "execution_count": 17,
   "metadata": {},
   "outputs": [],
   "source": [
    "import random\n",
    "def acc_Number(start_char):\n",
    "    acc_number=start_char\n",
    "    for i in range(7):\n",
    "        d=random.randint(0,9)\n",
    "        acc_number= acc_number+str(d)\n",
    "        \n",
    "    return acc_number"
   ]
  },
  {
   "cell_type": "code",
   "execution_count": 19,
   "metadata": {},
   "outputs": [
    {
     "data": {
      "text/plain": [
       "'0610362318'"
      ]
     },
     "execution_count": 19,
     "metadata": {},
     "output_type": "execute_result"
    }
   ],
   "source": [
    "acc_Number(\"061\")"
   ]
  },
  {
   "cell_type": "code",
   "execution_count": 20,
   "metadata": {},
   "outputs": [],
   "source": [
    "def gen_pass(length):\n",
    "    password=\"\"\n",
    "    for i in range(length):\n",
    "        d=random.choice([\"1\",\"2\",\":\",\".\",\" \",\"a\",\"b\"])\n",
    "        password= password+d\n",
    "        \n",
    "    return password"
   ]
  },
  {
   "cell_type": "code",
   "execution_count": 21,
   "metadata": {},
   "outputs": [
    {
     "data": {
      "text/plain": [
       "'b: '"
      ]
     },
     "execution_count": 21,
     "metadata": {},
     "output_type": "execute_result"
    }
   ],
   "source": [
    "gen_pass(3)"
   ]
  },
  {
   "cell_type": "code",
   "execution_count": 22,
   "metadata": {},
   "outputs": [
    {
     "data": {
      "text/plain": [
       "'11121b2.1.'"
      ]
     },
     "execution_count": 22,
     "metadata": {},
     "output_type": "execute_result"
    }
   ],
   "source": [
    "gen_pass(10)"
   ]
  },
  {
   "cell_type": "code",
   "execution_count": 23,
   "metadata": {},
   "outputs": [
    {
     "data": {
      "text/plain": [
       "'11 ..b'"
      ]
     },
     "execution_count": 23,
     "metadata": {},
     "output_type": "execute_result"
    }
   ],
   "source": [
    "gen_pass(6)"
   ]
  },
  {
   "cell_type": "code",
   "execution_count": null,
   "metadata": {},
   "outputs": [],
   "source": []
  }
 ],
 "metadata": {
  "kernelspec": {
   "display_name": "Python 3",
   "language": "python",
   "name": "python3"
  },
  "language_info": {
   "codemirror_mode": {
    "name": "ipython",
    "version": 3
   },
   "file_extension": ".py",
   "mimetype": "text/x-python",
   "name": "python",
   "nbconvert_exporter": "python",
   "pygments_lexer": "ipython3",
   "version": "3.7.3"
  }
 },
 "nbformat": 4,
 "nbformat_minor": 2
}
