{
 "cells": [
  {
   "cell_type": "markdown",
   "metadata": {},
   "source": [
    "## Splitting and joining of arrays"
   ]
  },
  {
   "cell_type": "code",
   "execution_count": 1,
   "metadata": {},
   "outputs": [],
   "source": [
    "import numpy as np\n"
   ]
  },
  {
   "cell_type": "code",
   "execution_count": 2,
   "metadata": {},
   "outputs": [],
   "source": [
    "x=np.linspace(10,20,8)"
   ]
  },
  {
   "cell_type": "code",
   "execution_count": 3,
   "metadata": {},
   "outputs": [
    {
     "data": {
      "text/plain": [
       "array([10.        , 11.42857143, 12.85714286, 14.28571429, 15.71428571,\n",
       "       17.14285714, 18.57142857, 20.        ])"
      ]
     },
     "execution_count": 3,
     "metadata": {},
     "output_type": "execute_result"
    }
   ],
   "source": [
    "x"
   ]
  },
  {
   "cell_type": "code",
   "execution_count": 4,
   "metadata": {},
   "outputs": [
    {
     "data": {
      "text/plain": [
       "10.0"
      ]
     },
     "execution_count": 4,
     "metadata": {},
     "output_type": "execute_result"
    }
   ],
   "source": [
    "x[0]"
   ]
  },
  {
   "cell_type": "code",
   "execution_count": 5,
   "metadata": {},
   "outputs": [
    {
     "data": {
      "text/plain": [
       "20.0"
      ]
     },
     "execution_count": 5,
     "metadata": {},
     "output_type": "execute_result"
    }
   ],
   "source": [
    "x[-1]"
   ]
  },
  {
   "cell_type": "code",
   "execution_count": 6,
   "metadata": {},
   "outputs": [
    {
     "data": {
      "text/plain": [
       "18.57142857142857"
      ]
     },
     "execution_count": 6,
     "metadata": {},
     "output_type": "execute_result"
    }
   ],
   "source": [
    "x[-2]"
   ]
  },
  {
   "cell_type": "markdown",
   "metadata": {},
   "source": [
    "# nested array or list \n",
    "## review python"
   ]
  },
  {
   "cell_type": "code",
   "execution_count": 9,
   "metadata": {},
   "outputs": [],
   "source": [
    "a=[[2,4,5],[5,6,7]]"
   ]
  },
  {
   "cell_type": "code",
   "execution_count": 10,
   "metadata": {},
   "outputs": [
    {
     "data": {
      "text/plain": [
       "[[2, 4, 5], [5, 6, 7]]"
      ]
     },
     "execution_count": 10,
     "metadata": {},
     "output_type": "execute_result"
    }
   ],
   "source": [
    "a"
   ]
  },
  {
   "cell_type": "code",
   "execution_count": 11,
   "metadata": {},
   "outputs": [
    {
     "data": {
      "text/plain": [
       "2"
      ]
     },
     "execution_count": 11,
     "metadata": {},
     "output_type": "execute_result"
    }
   ],
   "source": [
    "len(a)"
   ]
  },
  {
   "cell_type": "code",
   "execution_count": 12,
   "metadata": {},
   "outputs": [
    {
     "data": {
      "text/plain": [
       "[2, 4, 5]"
      ]
     },
     "execution_count": 12,
     "metadata": {},
     "output_type": "execute_result"
    }
   ],
   "source": [
    "a[0]"
   ]
  },
  {
   "cell_type": "code",
   "execution_count": 13,
   "metadata": {},
   "outputs": [
    {
     "data": {
      "text/plain": [
       "[5, 6, 7]"
      ]
     },
     "execution_count": 13,
     "metadata": {},
     "output_type": "execute_result"
    }
   ],
   "source": [
    "a[1]"
   ]
  },
  {
   "cell_type": "code",
   "execution_count": 14,
   "metadata": {},
   "outputs": [
    {
     "data": {
      "text/plain": [
       "6"
      ]
     },
     "execution_count": 14,
     "metadata": {},
     "output_type": "execute_result"
    }
   ],
   "source": [
    "a[1][1]"
   ]
  },
  {
   "cell_type": "code",
   "execution_count": 15,
   "metadata": {},
   "outputs": [
    {
     "data": {
      "text/plain": [
       "5"
      ]
     },
     "execution_count": 15,
     "metadata": {},
     "output_type": "execute_result"
    }
   ],
   "source": [
    "a[0][2]"
   ]
  },
  {
   "cell_type": "code",
   "execution_count": 16,
   "metadata": {},
   "outputs": [
    {
     "ename": "TypeError",
     "evalue": "list indices must be integers or slices, not tuple",
     "output_type": "error",
     "traceback": [
      "\u001b[1;31m---------------------------------------------------------------------------\u001b[0m",
      "\u001b[1;31mTypeError\u001b[0m                                 Traceback (most recent call last)",
      "\u001b[1;32m<ipython-input-16-252be9ce4851>\u001b[0m in \u001b[0;36m<module>\u001b[1;34m\u001b[0m\n\u001b[1;32m----> 1\u001b[1;33m \u001b[0ma\u001b[0m\u001b[1;33m[\u001b[0m\u001b[1;36m0\u001b[0m\u001b[1;33m,\u001b[0m\u001b[1;36m2\u001b[0m\u001b[1;33m]\u001b[0m\u001b[1;33m\u001b[0m\u001b[1;33m\u001b[0m\u001b[0m\n\u001b[0m",
      "\u001b[1;31mTypeError\u001b[0m: list indices must be integers or slices, not tuple"
     ]
    }
   ],
   "source": [
    "a[0,2]"
   ]
  },
  {
   "cell_type": "code",
   "execution_count": 17,
   "metadata": {},
   "outputs": [],
   "source": [
    "a1=np.array(a)"
   ]
  },
  {
   "cell_type": "code",
   "execution_count": 18,
   "metadata": {},
   "outputs": [
    {
     "data": {
      "text/plain": [
       "array([[2, 4, 5],\n",
       "       [5, 6, 7]])"
      ]
     },
     "execution_count": 18,
     "metadata": {},
     "output_type": "execute_result"
    }
   ],
   "source": [
    "a1"
   ]
  },
  {
   "cell_type": "code",
   "execution_count": 19,
   "metadata": {},
   "outputs": [
    {
     "data": {
      "text/plain": [
       "array([2, 4, 5])"
      ]
     },
     "execution_count": 19,
     "metadata": {},
     "output_type": "execute_result"
    }
   ],
   "source": [
    "a1[0]"
   ]
  },
  {
   "cell_type": "code",
   "execution_count": 20,
   "metadata": {},
   "outputs": [
    {
     "data": {
      "text/plain": [
       "array([5, 6, 7])"
      ]
     },
     "execution_count": 20,
     "metadata": {},
     "output_type": "execute_result"
    }
   ],
   "source": [
    "a1[1]"
   ]
  },
  {
   "cell_type": "code",
   "execution_count": 21,
   "metadata": {},
   "outputs": [
    {
     "data": {
      "text/plain": [
       "6"
      ]
     },
     "execution_count": 21,
     "metadata": {},
     "output_type": "execute_result"
    }
   ],
   "source": [
    "a1[1][1]"
   ]
  },
  {
   "cell_type": "code",
   "execution_count": 22,
   "metadata": {},
   "outputs": [
    {
     "data": {
      "text/plain": [
       "6"
      ]
     },
     "execution_count": 22,
     "metadata": {},
     "output_type": "execute_result"
    }
   ],
   "source": [
    "a1[1,1]"
   ]
  },
  {
   "cell_type": "code",
   "execution_count": 23,
   "metadata": {},
   "outputs": [
    {
     "data": {
      "text/plain": [
       "7"
      ]
     },
     "execution_count": 23,
     "metadata": {},
     "output_type": "execute_result"
    }
   ],
   "source": [
    "a1[1,2]"
   ]
  },
  {
   "cell_type": "code",
   "execution_count": 24,
   "metadata": {},
   "outputs": [
    {
     "data": {
      "text/plain": [
       "7"
      ]
     },
     "execution_count": 24,
     "metadata": {},
     "output_type": "execute_result"
    }
   ],
   "source": [
    "a1[1][2]"
   ]
  },
  {
   "cell_type": "code",
   "execution_count": 25,
   "metadata": {},
   "outputs": [
    {
     "data": {
      "text/plain": [
       "array([10.        , 11.42857143, 12.85714286, 14.28571429, 15.71428571,\n",
       "       17.14285714, 18.57142857, 20.        ])"
      ]
     },
     "execution_count": 25,
     "metadata": {},
     "output_type": "execute_result"
    }
   ],
   "source": [
    "x"
   ]
  },
  {
   "cell_type": "code",
   "execution_count": 26,
   "metadata": {},
   "outputs": [
    {
     "data": {
      "text/plain": [
       "array([10.        , 11.42857143, 12.85714286])"
      ]
     },
     "execution_count": 26,
     "metadata": {},
     "output_type": "execute_result"
    }
   ],
   "source": [
    "x[0:3]"
   ]
  },
  {
   "cell_type": "code",
   "execution_count": 27,
   "metadata": {},
   "outputs": [
    {
     "data": {
      "text/plain": [
       "array([10.        , 11.42857143, 12.85714286])"
      ]
     },
     "execution_count": 27,
     "metadata": {},
     "output_type": "execute_result"
    }
   ],
   "source": [
    "x[:3]"
   ]
  },
  {
   "cell_type": "code",
   "execution_count": 30,
   "metadata": {},
   "outputs": [
    {
     "data": {
      "text/plain": [
       "array([11.42857143, 12.85714286])"
      ]
     },
     "execution_count": 30,
     "metadata": {},
     "output_type": "execute_result"
    }
   ],
   "source": [
    "x[1:3]"
   ]
  },
  {
   "cell_type": "code",
   "execution_count": 28,
   "metadata": {},
   "outputs": [
    {
     "data": {
      "text/plain": [
       "array([10.        , 12.85714286, 15.71428571])"
      ]
     },
     "execution_count": 28,
     "metadata": {},
     "output_type": "execute_result"
    }
   ],
   "source": [
    "x[:5:2]"
   ]
  },
  {
   "cell_type": "code",
   "execution_count": 29,
   "metadata": {},
   "outputs": [
    {
     "data": {
      "text/plain": [
       "array([[2, 4, 5],\n",
       "       [5, 6, 7]])"
      ]
     },
     "execution_count": 29,
     "metadata": {},
     "output_type": "execute_result"
    }
   ],
   "source": [
    "a1"
   ]
  },
  {
   "cell_type": "code",
   "execution_count": 31,
   "metadata": {},
   "outputs": [
    {
     "data": {
      "text/plain": [
       "array([5, 7])"
      ]
     },
     "execution_count": 31,
     "metadata": {},
     "output_type": "execute_result"
    }
   ],
   "source": [
    "a1[:,2]"
   ]
  },
  {
   "cell_type": "code",
   "execution_count": 32,
   "metadata": {},
   "outputs": [
    {
     "data": {
      "text/plain": [
       "array([[4, 5],\n",
       "       [6, 7]])"
      ]
     },
     "execution_count": 32,
     "metadata": {},
     "output_type": "execute_result"
    }
   ],
   "source": [
    "a1[:,1:3]"
   ]
  },
  {
   "cell_type": "code",
   "execution_count": 33,
   "metadata": {},
   "outputs": [
    {
     "data": {
      "text/plain": [
       "array([[2],\n",
       "       [5]])"
      ]
     },
     "execution_count": 33,
     "metadata": {},
     "output_type": "execute_result"
    }
   ],
   "source": [
    "a1[:,0:1]"
   ]
  },
  {
   "cell_type": "code",
   "execution_count": 34,
   "metadata": {},
   "outputs": [
    {
     "data": {
      "text/plain": [
       "array([[2, 4],\n",
       "       [5, 6]])"
      ]
     },
     "execution_count": 34,
     "metadata": {},
     "output_type": "execute_result"
    }
   ],
   "source": [
    "a1[:,0:2]"
   ]
  },
  {
   "cell_type": "code",
   "execution_count": 35,
   "metadata": {},
   "outputs": [
    {
     "data": {
      "text/plain": [
       "array([5, 6, 7])"
      ]
     },
     "execution_count": 35,
     "metadata": {},
     "output_type": "execute_result"
    }
   ],
   "source": [
    "a1[1,:]"
   ]
  },
  {
   "cell_type": "code",
   "execution_count": 36,
   "metadata": {},
   "outputs": [
    {
     "data": {
      "text/plain": [
       "array([5, 6, 7])"
      ]
     },
     "execution_count": 36,
     "metadata": {},
     "output_type": "execute_result"
    }
   ],
   "source": [
    "a1[1]"
   ]
  },
  {
   "cell_type": "code",
   "execution_count": 37,
   "metadata": {},
   "outputs": [],
   "source": [
    "y=np.random.randint(2,20,(4,5))"
   ]
  },
  {
   "cell_type": "code",
   "execution_count": 38,
   "metadata": {},
   "outputs": [
    {
     "data": {
      "text/plain": [
       "array([[19, 10,  8, 10, 14],\n",
       "       [ 3,  5, 16,  2, 17],\n",
       "       [18,  6, 17, 10,  9],\n",
       "       [10, 18,  9,  8,  6]])"
      ]
     },
     "execution_count": 38,
     "metadata": {},
     "output_type": "execute_result"
    }
   ],
   "source": [
    "y"
   ]
  },
  {
   "cell_type": "code",
   "execution_count": 39,
   "metadata": {},
   "outputs": [
    {
     "data": {
      "text/plain": [
       "array([[19, 10,  8, 10, 14],\n",
       "       [ 3,  5, 16,  2, 17]])"
      ]
     },
     "execution_count": 39,
     "metadata": {},
     "output_type": "execute_result"
    }
   ],
   "source": [
    "y[:2]"
   ]
  },
  {
   "cell_type": "code",
   "execution_count": 40,
   "metadata": {},
   "outputs": [
    {
     "data": {
      "text/plain": [
       "array([[19, 10],\n",
       "       [ 3,  5]])"
      ]
     },
     "execution_count": 40,
     "metadata": {},
     "output_type": "execute_result"
    }
   ],
   "source": [
    "y[:2,:2]"
   ]
  },
  {
   "cell_type": "code",
   "execution_count": 41,
   "metadata": {},
   "outputs": [
    {
     "data": {
      "text/plain": [
       "array([[ 6, 17],\n",
       "       [18,  9]])"
      ]
     },
     "execution_count": 41,
     "metadata": {},
     "output_type": "execute_result"
    }
   ],
   "source": [
    "y[2:4,1:3]"
   ]
  },
  {
   "cell_type": "code",
   "execution_count": 42,
   "metadata": {},
   "outputs": [
    {
     "data": {
      "text/plain": [
       "16"
      ]
     },
     "execution_count": 42,
     "metadata": {},
     "output_type": "execute_result"
    }
   ],
   "source": [
    "y[1,2]"
   ]
  },
  {
   "cell_type": "code",
   "execution_count": 43,
   "metadata": {},
   "outputs": [
    {
     "data": {
      "text/plain": [
       "array([10.        , 11.42857143, 12.85714286, 14.28571429, 15.71428571,\n",
       "       17.14285714, 18.57142857, 20.        ])"
      ]
     },
     "execution_count": 43,
     "metadata": {},
     "output_type": "execute_result"
    }
   ],
   "source": [
    "x"
   ]
  },
  {
   "cell_type": "code",
   "execution_count": 44,
   "metadata": {},
   "outputs": [
    {
     "data": {
      "text/plain": [
       "array([10.        , 17.14285714])"
      ]
     },
     "execution_count": 44,
     "metadata": {},
     "output_type": "execute_result"
    }
   ],
   "source": [
    "x[::5]"
   ]
  },
  {
   "cell_type": "markdown",
   "metadata": {},
   "source": [
    "## fancy indexing"
   ]
  },
  {
   "cell_type": "code",
   "execution_count": 45,
   "metadata": {},
   "outputs": [
    {
     "data": {
      "text/plain": [
       "array([10.        , 11.42857143, 12.85714286, 14.28571429, 15.71428571,\n",
       "       17.14285714, 18.57142857, 20.        ])"
      ]
     },
     "execution_count": 45,
     "metadata": {},
     "output_type": "execute_result"
    }
   ],
   "source": [
    "x"
   ]
  },
  {
   "cell_type": "code",
   "execution_count": 46,
   "metadata": {},
   "outputs": [
    {
     "data": {
      "text/plain": [
       "array([10.        , 12.85714286, 15.71428571, 18.57142857])"
      ]
     },
     "execution_count": 46,
     "metadata": {},
     "output_type": "execute_result"
    }
   ],
   "source": [
    "x[::2]"
   ]
  },
  {
   "cell_type": "code",
   "execution_count": 47,
   "metadata": {},
   "outputs": [
    {
     "data": {
      "text/plain": [
       "array([10.        , 12.85714286, 18.57142857])"
      ]
     },
     "execution_count": 47,
     "metadata": {},
     "output_type": "execute_result"
    }
   ],
   "source": [
    "x[[0,2,6]]"
   ]
  },
  {
   "cell_type": "code",
   "execution_count": 49,
   "metadata": {},
   "outputs": [
    {
     "data": {
      "text/plain": [
       "array([[19, 10,  8, 10, 14],\n",
       "       [ 3,  5, 16,  2, 17],\n",
       "       [18,  6, 17, 10,  9],\n",
       "       [10, 18,  9,  8,  6]])"
      ]
     },
     "execution_count": 49,
     "metadata": {},
     "output_type": "execute_result"
    }
   ],
   "source": [
    "y"
   ]
  },
  {
   "cell_type": "code",
   "execution_count": 50,
   "metadata": {},
   "outputs": [
    {
     "data": {
      "text/plain": [
       "array([19,  5, 17])"
      ]
     },
     "execution_count": 50,
     "metadata": {},
     "output_type": "execute_result"
    }
   ],
   "source": [
    "y[[0,1,2],[0,1,2]]"
   ]
  },
  {
   "cell_type": "code",
   "execution_count": 51,
   "metadata": {},
   "outputs": [
    {
     "data": {
      "text/plain": [
       "array([19, 10,  8])"
      ]
     },
     "execution_count": 51,
     "metadata": {},
     "output_type": "execute_result"
    }
   ],
   "source": [
    "y[[0,2,3],[0,3,3]]"
   ]
  },
  {
   "cell_type": "markdown",
   "metadata": {},
   "source": [
    " ## loading data set"
   ]
  },
  {
   "cell_type": "code",
   "execution_count": 53,
   "metadata": {},
   "outputs": [
    {
     "name": "stderr",
     "output_type": "stream",
     "text": [
      "IOPub data rate exceeded.\n",
      "The notebook server will temporarily stop sending output\n",
      "to the client in order to avoid crashing it.\n",
      "To change this limit, set the config variable\n",
      "`--NotebookApp.iopub_data_rate_limit`.\n",
      "\n",
      "Current values:\n",
      "NotebookApp.iopub_data_rate_limit=1000000.0 (bytes/sec)\n",
      "NotebookApp.rate_limit_window=3.0 (secs)\n",
      "\n"
     ]
    }
   ],
   "source": [
    "file=open(\"grad_survey.csv\",\"r\")\n",
    "content=file.read()\n",
    "file.close()\n",
    "print(content)"
   ]
  },
  {
   "cell_type": "code",
   "execution_count": 54,
   "metadata": {},
   "outputs": [
    {
     "name": "stderr",
     "output_type": "stream",
     "text": [
      "IOPub data rate exceeded.\n",
      "The notebook server will temporarily stop sending output\n",
      "to the client in order to avoid crashing it.\n",
      "To change this limit, set the config variable\n",
      "`--NotebookApp.iopub_data_rate_limit`.\n",
      "\n",
      "Current values:\n",
      "NotebookApp.iopub_data_rate_limit=1000000.0 (bytes/sec)\n",
      "NotebookApp.rate_limit_window=3.0 (secs)\n",
      "\n"
     ]
    }
   ],
   "source": [
    "file=open(\"grad_survey.csv\",\"r\")\n",
    "content=file.readlines()\n",
    "file.close()\n",
    "print(content)"
   ]
  },
  {
   "cell_type": "code",
   "execution_count": 55,
   "metadata": {},
   "outputs": [
    {
     "name": "stdout",
     "output_type": "stream",
     "text": [
      "Timestamp,What is your gender,Year of graduation,Title of course studied,Polytechnic/University attended,What is your highest level of education?,What best describes your current status?,How many jobs have you had since graduation including your current one?,Have you completed your NYSC?,\"If you answered yes/ongoing to the previous question, what year did you (or will you) complete your NYSC?\",Did you get your first full time job through your NYSC placement?,\"Thinking about your first employment after graduation, what was your job level?\",What is/was your job role?,\"What sector/industry is your company in? (E.g. Banking, Agriculture, Telecommunication)\",\"Still thinking about your first employment, what is/was your monthly income level?\",\"Did you need your higher education qualification to get your first job (the actual qualification, not the subject of study)?\",What was the most significant reason for deciding to take your first job?,\"Thinking about your current employment, what is your job level?\",What is your job role?,\"What sector/industry is your company in? (E.g. Banking, Agriculture, Telecommunication)\",What is your current monthly income level?,\"Did you need your higher education qualification to get this job (the actual qualification, not the subject of study)?\",What was the most significant reason for deciding to take this job?,Which employer in the country do you think offers the best opportunities for graduates?,Reason why?,Which sector is your most preferred sector to work in?,What currency are you currently paid in?,Approximately how many hours a day do you currently work?,\"As far as you are aware, what was most important to your current employer about your qualification?\",How do you find out about your job(s)?,\"Thinking about your current employment, did you work for your employer before or during your  higher education study?\",Which form of transport do you use the most?,Were you able to rent an apartment or buy a car from the salary you got from your first job?,My course of study prepared me well for employment,My course of study prepared me well for further studies,Which of these skills/knowledge did your higher education prepare you for?\n",
      "\n",
      "2/8/2018 9:05:23,Male,2013,Electrical & Electronic Engineering,\"Obafemi Awolowo University,Ile-Ife\",Bachelor's degree,Working full time (paid employment),3,,,,Experience,,Technology,\"â€Žâ‚¦50,000 - â€Žâ‚¦99,999\",No: the qualification was not required,It fitted into my career plan/it was exactly the type of work I wanted,Managerial,,Technology,\"â€Žâ‚¦200,000 - â€Žâ‚¦249,999\",,It fitted into my career plan/it was exactly the type of work I wanted,NNPC,,Engineering,Naira,8,No one thing was important,Internship,No,Bus,Yes: From my first job,No,No,\"Critical thinking skills, Ability to solve complex problems, Written communication skills, Spoken communication skills\"\n",
      "\n",
      "2/15/2018 12:11:32,Male,2014,Psychology,\"Obafemi Awolowo University,Ile-Ife\",Bachelor's degree,Working full time (paid employment),2,Yes,2017,No,Entry level,,Media,\"â€Žâ‚¦20,000 - â€Žâ‚¦49,999\",Yes: the qualification was a formal requirement,To see if I would like the type of work it involved,Experience,Option 1,Media,\"â€Žâ‚¦100,000 - â€Žâ‚¦149,999\",Yes: the qualification was a formal requirement,It fitted into my career plan/it was exactly the type of work I wanted,Andela,Impression formed from the media.,Media,Naira,8,IT/SIWES/Internship experience (gained as part of my course),Internship,No,BRT,No: From my current job,Strongly Disagree,Agree,\"Critical thinking skills, Ability to solve complex problems, Ability to work with others, Spoken communication skills\"\n",
      "\n",
      "2/15/2018 13:47:10,Female,2013,Economics,\"Bells University of Technology, Otta\",Bachelor's degree,Working full time (paid employment),2,Yes,,No,Entry level,Option 1,Consulting,\"â€Žâ‚¦100,000 - â€Žâ‚¦149,999\",Yes: the qualification was a formal requirement,It fitted into my career plan/it was exactly the type of work I wanted,Experience,Option 1,Consulting,\"â€Žâ‚¦200,000 - â€Žâ‚¦249,999\",Yes: the qualification was a formal requirement,To gain and broaden my experience in order to get the type of job I really want,\"It depends. However for a business/finance related career I'd say consulting firms (Big 4, Mckinsey and Investment Banks)\",Impression formed from talking to people who have worked there or still work there.,Consulting,Naira,14,The subject(s) I studied,Employer's website,No,Uber/Taxify/Taxi services,No: From my current job,Disagree,Agree,\"Ability to work with others, Written communication skills\"\n",
      "\n",
      "2/16/2018 13:01:34,Male,2017,Mass Communication (Communication and Language Arts),\"Bowen University, Iwo\",Master's degree,Self-employed/freelance/entrepreneur,0,Yes,,No,,,,,,,,,,,,,,,,,,,,,,,,,\n",
      "\n",
      "2/16/2018 13:18:03,Female,2013,Statistics,Ekiti State University,Bachelor's degree,Working full time (paid employment),3,Yes,2016,No,Managerial,Operations Manager,Retail / Wholesales,\"â€Žâ‚¦50,000 - â€Žâ‚¦99,999\",Yes: while the qualification was not a formal requirement it did give me an advantage,To gain and broaden my experience in order to get the type of job I really want,Entry level,Business Analyst,Advertising / Marketing / Comms,\"â€Žâ‚¦100,000 - â€Žâ‚¦149,999\",Yes: the qualification was a formal requirement,It fitted into my career plan/it was exactly the type of work I wanted,Communications Company,Others,Advertising / Marketing / Comms,Naira,8,IT/SIWES/Internship experience (gained as part of my course),\"Personal contacts, including family and friends\",No,Commercial Vehicles,No,Agree,Agree,Critical thinking skills\n",
      "\n",
      "2/16/2018 16:44:18,Male,2015,Electrical & Electronic Engineering,University of Benin,Bachelor's degree,Working full time (paid employment),2,No,2013,No,Entry level,Creatives,Advertising / Marketing / Comms,\"â€Žâ‚¦20,000 - â€Žâ‚¦49,999\",No: the qualification was not required,It was in the right location,Experience,Creatives,Creatives/Art/Design,\"â€Žâ‚¦200,000 - â€Žâ‚¦249,999\",No: the qualification was not required,It was in the right location,DFID,Others,NGO,Naira,10,Capacity,Social media/professional networking sites,No,Car,No: From my current job,Agree,Agree,\"Ability to work with others, Knowledge of the skill(s) you are studying\"\n",
      "\n",
      "2/19/2018 7:24:05,Male,2013,Economics,\"Bowen University, Iwo\",Higher National Diploma (HND),Working full time (paid employment),4,Yes,2016,No,Entry level,Business Analyst,Technology,\"â€Žâ‚¦20,000 - â€Žâ‚¦49,999\",Yes: the qualification was a formal requirement,It fitted into my career plan/it was exactly the type of work I wanted,Managerial,Software Developer,Technology,\"â€Žâ‚¦250,000 and more\",No: the qualification was not required,It fitted into my career plan/it was exactly the type of work I wanted,McKinsey,Impression formed during any encounter with company representatives,Creatives/Art/Design,Naira,8,Don't know,\"University/polytechnic (e.g. Careers Service, lecturer, website)\",Yes: during my higher education study,Commercial Vehicles,No: From my current job,Strongly Disagree,Strongly Disagree,\"Critical thinking skills, Ability to work with others\"\n",
      "\n",
      "2/19/2018 8:40:37,Male,2015,Accountancy,\"Obafemi Awolowo University,Ile-Ife\",Bachelor's degree,Working full time (paid employment),1,Yes,2017,No,,,,,,,Entry level,Finance/Accounting,Consulting,\"â€Žâ‚¦50,000 - â€Žâ‚¦99,999\",Yes: the qualification was a formal requirement,To gain and broaden my experience in order to get the type of job I really want,Oil & Gas Sector,Impression formed from talking to people who have worked there or still work there,Banking / Financial Services,Naira,11,IT/SIWES/Internship experience (gained as part of my course),Internship,No,Commercial Vehicles,No,Agree,Agree,\"Ability to solve complex problems, Knowledge of the skill(s) you are studying\"\n",
      "\n",
      "2/19/2018 8:53:52,Female,2017,Industrial Relations and Personnel Management,Covenant University Ota,Bachelor's degree,Youth Corper (NYSC),2,Ongoing,2018,Yes,Entry level,Customer Service,Advertising / Marketing / Comms,\"â€Žâ‚¦20,000 - â€Žâ‚¦49,999\",Yes: the qualification was a formal requirement,To gain and broaden my experience in order to get the type of job I really want,Entry level,Human Resources,Power/Energy,\"Under â€Žâ‚¦20,000\",Yes: the qualification was a formal requirement,It fitted into my career plan/it was exactly the type of work I wanted,Oil companies ,Impression formed from the media,FMCG,Naira,9,The subject(s) I studied,\"Personal contacts, including family and friends\",No,Keke Marwa/Napep/Tricycle,No,Agree,Agree,Ability to work with others\n",
      "\n"
     ]
    }
   ],
   "source": [
    "file=open(\"grad_survey.csv\",\"r\")\n",
    "for row in file.readlines()[:10]:\n",
    "    print(row)"
   ]
  },
  {
   "cell_type": "code",
   "execution_count": 56,
   "metadata": {},
   "outputs": [
    {
     "name": "stdout",
     "output_type": "stream",
     "text": [
      "['Timestamp,What is your gender,Year of graduation,Title of course studied,Polytechnic/University attended,What is your highest level of education?,What best describes your current status?,How many jobs have you had since graduation including your current one?,Have you completed your NYSC?,\"If you answered yes/ongoing to the previous question, what year did you (or will you) complete your NYSC?\",Did you get your first full time job through your NYSC placement?,\"Thinking about your first employment after graduation, what was your job level?\",What is/was your job role?,\"What sector/industry is your company in? (E.g. Banking, Agriculture, Telecommunication)\",\"Still thinking about your first employment, what is/was your monthly income level?\",\"Did you need your higher education qualification to get your first job (the actual qualification, not the subject of study)?\",What was the most significant reason for deciding to take your first job?,\"Thinking about your current employment, what is your job level?\",What is your job role?,\"What sector/industry is your company in? (E.g. Banking, Agriculture, Telecommunication)\",What is your current monthly income level?,\"Did you need your higher education qualification to get this job (the actual qualification, not the subject of study)?\",What was the most significant reason for deciding to take this job?,Which employer in the country do you think offers the best opportunities for graduates?,Reason why?,Which sector is your most preferred sector to work in?,What currency are you currently paid in?,Approximately how many hours a day do you currently work?,\"As far as you are aware, what was most important to your current employer about your qualification?\",How do you find out about your job(s)?,\"Thinking about your current employment, did you work for your employer before or during your  higher education study?\",Which form of transport do you use the most?,Were you able to rent an apartment or buy a car from the salary you got from your first job?,My course of study prepared me well for employment,My course of study prepared me well for further studies,Which of these skills/knowledge did your higher education prepare you for?\\n', '2/8/2018 9:05:23,Male,2013,Electrical & Electronic Engineering,\"Obafemi Awolowo University,Ile-Ife\",Bachelor\\'s degree,Working full time (paid employment),3,,,,Experience,,Technology,\"â€Žâ‚¦50,000 - â€Žâ‚¦99,999\",No: the qualification was not required,It fitted into my career plan/it was exactly the type of work I wanted,Managerial,,Technology,\"â€Žâ‚¦200,000 - â€Žâ‚¦249,999\",,It fitted into my career plan/it was exactly the type of work I wanted,NNPC,,Engineering,Naira,8,No one thing was important,Internship,No,Bus,Yes: From my first job,No,No,\"Critical thinking skills, Ability to solve complex problems, Written communication skills, Spoken communication skills\"\\n', '2/15/2018 12:11:32,Male,2014,Psychology,\"Obafemi Awolowo University,Ile-Ife\",Bachelor\\'s degree,Working full time (paid employment),2,Yes,2017,No,Entry level,,Media,\"â€Žâ‚¦20,000 - â€Žâ‚¦49,999\",Yes: the qualification was a formal requirement,To see if I would like the type of work it involved,Experience,Option 1,Media,\"â€Žâ‚¦100,000 - â€Žâ‚¦149,999\",Yes: the qualification was a formal requirement,It fitted into my career plan/it was exactly the type of work I wanted,Andela,Impression formed from the media.,Media,Naira,8,IT/SIWES/Internship experience (gained as part of my course),Internship,No,BRT,No: From my current job,Strongly Disagree,Agree,\"Critical thinking skills, Ability to solve complex problems, Ability to work with others, Spoken communication skills\"\\n', '2/15/2018 13:47:10,Female,2013,Economics,\"Bells University of Technology, Otta\",Bachelor\\'s degree,Working full time (paid employment),2,Yes,,No,Entry level,Option 1,Consulting,\"â€Žâ‚¦100,000 - â€Žâ‚¦149,999\",Yes: the qualification was a formal requirement,It fitted into my career plan/it was exactly the type of work I wanted,Experience,Option 1,Consulting,\"â€Žâ‚¦200,000 - â€Žâ‚¦249,999\",Yes: the qualification was a formal requirement,To gain and broaden my experience in order to get the type of job I really want,\"It depends. However for a business/finance related career I\\'d say consulting firms (Big 4, Mckinsey and Investment Banks)\",Impression formed from talking to people who have worked there or still work there.,Consulting,Naira,14,The subject(s) I studied,Employer\\'s website,No,Uber/Taxify/Taxi services,No: From my current job,Disagree,Agree,\"Ability to work with others, Written communication skills\"\\n', '2/16/2018 13:01:34,Male,2017,Mass Communication (Communication and Language Arts),\"Bowen University, Iwo\",Master\\'s degree,Self-employed/freelance/entrepreneur,0,Yes,,No,,,,,,,,,,,,,,,,,,,,,,,,,\\n', '2/16/2018 13:18:03,Female,2013,Statistics,Ekiti State University,Bachelor\\'s degree,Working full time (paid employment),3,Yes,2016,No,Managerial,Operations Manager,Retail / Wholesales,\"â€Žâ‚¦50,000 - â€Žâ‚¦99,999\",Yes: while the qualification was not a formal requirement it did give me an advantage,To gain and broaden my experience in order to get the type of job I really want,Entry level,Business Analyst,Advertising / Marketing / Comms,\"â€Žâ‚¦100,000 - â€Žâ‚¦149,999\",Yes: the qualification was a formal requirement,It fitted into my career plan/it was exactly the type of work I wanted,Communications Company,Others,Advertising / Marketing / Comms,Naira,8,IT/SIWES/Internship experience (gained as part of my course),\"Personal contacts, including family and friends\",No,Commercial Vehicles,No,Agree,Agree,Critical thinking skills\\n', '2/16/2018 16:44:18,Male,2015,Electrical & Electronic Engineering,University of Benin,Bachelor\\'s degree,Working full time (paid employment),2,No,2013,No,Entry level,Creatives,Advertising / Marketing / Comms,\"â€Žâ‚¦20,000 - â€Žâ‚¦49,999\",No: the qualification was not required,It was in the right location,Experience,Creatives,Creatives/Art/Design,\"â€Žâ‚¦200,000 - â€Žâ‚¦249,999\",No: the qualification was not required,It was in the right location,DFID,Others,NGO,Naira,10,Capacity,Social media/professional networking sites,No,Car,No: From my current job,Agree,Agree,\"Ability to work with others, Knowledge of the skill(s) you are studying\"\\n', '2/19/2018 7:24:05,Male,2013,Economics,\"Bowen University, Iwo\",Higher National Diploma (HND),Working full time (paid employment),4,Yes,2016,No,Entry level,Business Analyst,Technology,\"â€Žâ‚¦20,000 - â€Žâ‚¦49,999\",Yes: the qualification was a formal requirement,It fitted into my career plan/it was exactly the type of work I wanted,Managerial,Software Developer,Technology,\"â€Žâ‚¦250,000 and more\",No: the qualification was not required,It fitted into my career plan/it was exactly the type of work I wanted,McKinsey,Impression formed during any encounter with company representatives,Creatives/Art/Design,Naira,8,Don\\'t know,\"University/polytechnic (e.g. Careers Service, lecturer, website)\",Yes: during my higher education study,Commercial Vehicles,No: From my current job,Strongly Disagree,Strongly Disagree,\"Critical thinking skills, Ability to work with others\"\\n', '2/19/2018 8:40:37,Male,2015,Accountancy,\"Obafemi Awolowo University,Ile-Ife\",Bachelor\\'s degree,Working full time (paid employment),1,Yes,2017,No,,,,,,,Entry level,Finance/Accounting,Consulting,\"â€Žâ‚¦50,000 - â€Žâ‚¦99,999\",Yes: the qualification was a formal requirement,To gain and broaden my experience in order to get the type of job I really want,Oil & Gas Sector,Impression formed from talking to people who have worked there or still work there,Banking / Financial Services,Naira,11,IT/SIWES/Internship experience (gained as part of my course),Internship,No,Commercial Vehicles,No,Agree,Agree,\"Ability to solve complex problems, Knowledge of the skill(s) you are studying\"\\n', '2/19/2018 8:53:52,Female,2017,Industrial Relations and Personnel Management,Covenant University Ota,Bachelor\\'s degree,Youth Corper (NYSC),2,Ongoing,2018,Yes,Entry level,Customer Service,Advertising / Marketing / Comms,\"â€Žâ‚¦20,000 - â€Žâ‚¦49,999\",Yes: the qualification was a formal requirement,To gain and broaden my experience in order to get the type of job I really want,Entry level,Human Resources,Power/Energy,\"Under â€Žâ‚¦20,000\",Yes: the qualification was a formal requirement,It fitted into my career plan/it was exactly the type of work I wanted,Oil companies ,Impression formed from the media,FMCG,Naira,9,The subject(s) I studied,\"Personal contacts, including family and friends\",No,Keke Marwa/Napep/Tricycle,No,Agree,Agree,Ability to work with others\\n']\n"
     ]
    }
   ],
   "source": [
    "results=[]\n",
    "file=open(\"grad_survey.csv\",\"r\")\n",
    "for row in file.readlines()[:10]:\n",
    "    results.append(row)\n",
    "file.close()\n",
    "print(results)"
   ]
  },
  {
   "cell_type": "code",
   "execution_count": 57,
   "metadata": {},
   "outputs": [
    {
     "data": {
      "text/plain": [
       "10"
      ]
     },
     "execution_count": 57,
     "metadata": {},
     "output_type": "execute_result"
    }
   ],
   "source": [
    "len(results)"
   ]
  },
  {
   "cell_type": "code",
   "execution_count": 61,
   "metadata": {},
   "outputs": [],
   "source": [
    "captions=results[0]"
   ]
  },
  {
   "cell_type": "code",
   "execution_count": 62,
   "metadata": {},
   "outputs": [
    {
     "data": {
      "text/plain": [
       "'Timestamp,What is your gender,Year of graduation,Title of course studied,Polytechnic/University attended,What is your highest level of education?,What best describes your current status?,How many jobs have you had since graduation including your current one?,Have you completed your NYSC?,\"If you answered yes/ongoing to the previous question, what year did you (or will you) complete your NYSC?\",Did you get your first full time job through your NYSC placement?,\"Thinking about your first employment after graduation, what was your job level?\",What is/was your job role?,\"What sector/industry is your company in? (E.g. Banking, Agriculture, Telecommunication)\",\"Still thinking about your first employment, what is/was your monthly income level?\",\"Did you need your higher education qualification to get your first job (the actual qualification, not the subject of study)?\",What was the most significant reason for deciding to take your first job?,\"Thinking about your current employment, what is your job level?\",What is your job role?,\"What sector/industry is your company in? (E.g. Banking, Agriculture, Telecommunication)\",What is your current monthly income level?,\"Did you need your higher education qualification to get this job (the actual qualification, not the subject of study)?\",What was the most significant reason for deciding to take this job?,Which employer in the country do you think offers the best opportunities for graduates?,Reason why?,Which sector is your most preferred sector to work in?,What currency are you currently paid in?,Approximately how many hours a day do you currently work?,\"As far as you are aware, what was most important to your current employer about your qualification?\",How do you find out about your job(s)?,\"Thinking about your current employment, did you work for your employer before or during your  higher education study?\",Which form of transport do you use the most?,Were you able to rent an apartment or buy a car from the salary you got from your first job?,My course of study prepared me well for employment,My course of study prepared me well for further studies,Which of these skills/knowledge did your higher education prepare you for?\\n'"
      ]
     },
     "execution_count": 62,
     "metadata": {},
     "output_type": "execute_result"
    }
   ],
   "source": [
    "captions"
   ]
  },
  {
   "cell_type": "code",
   "execution_count": 63,
   "metadata": {},
   "outputs": [
    {
     "data": {
      "text/plain": [
       "str"
      ]
     },
     "execution_count": 63,
     "metadata": {},
     "output_type": "execute_result"
    }
   ],
   "source": [
    "type(captions)"
   ]
  },
  {
   "cell_type": "code",
   "execution_count": 64,
   "metadata": {},
   "outputs": [],
   "source": [
    "captions_splitted=captions.split(\",\")"
   ]
  },
  {
   "cell_type": "code",
   "execution_count": 65,
   "metadata": {},
   "outputs": [
    {
     "data": {
      "text/plain": [
       "['Timestamp',\n",
       " 'What is your gender',\n",
       " 'Year of graduation',\n",
       " 'Title of course studied',\n",
       " 'Polytechnic/University attended',\n",
       " 'What is your highest level of education?',\n",
       " 'What best describes your current status?',\n",
       " 'How many jobs have you had since graduation including your current one?',\n",
       " 'Have you completed your NYSC?',\n",
       " '\"If you answered yes/ongoing to the previous question',\n",
       " ' what year did you (or will you) complete your NYSC?\"',\n",
       " 'Did you get your first full time job through your NYSC placement?',\n",
       " '\"Thinking about your first employment after graduation',\n",
       " ' what was your job level?\"',\n",
       " 'What is/was your job role?',\n",
       " '\"What sector/industry is your company in? (E.g. Banking',\n",
       " ' Agriculture',\n",
       " ' Telecommunication)\"',\n",
       " '\"Still thinking about your first employment',\n",
       " ' what is/was your monthly income level?\"',\n",
       " '\"Did you need your higher education qualification to get your first job (the actual qualification',\n",
       " ' not the subject of study)?\"',\n",
       " 'What was the most significant reason for deciding to take your first job?',\n",
       " '\"Thinking about your current employment',\n",
       " ' what is your job level?\"',\n",
       " 'What is your job role?',\n",
       " '\"What sector/industry is your company in? (E.g. Banking',\n",
       " ' Agriculture',\n",
       " ' Telecommunication)\"',\n",
       " 'What is your current monthly income level?',\n",
       " '\"Did you need your higher education qualification to get this job (the actual qualification',\n",
       " ' not the subject of study)?\"',\n",
       " 'What was the most significant reason for deciding to take this job?',\n",
       " 'Which employer in the country do you think offers the best opportunities for graduates?',\n",
       " 'Reason why?',\n",
       " 'Which sector is your most preferred sector to work in?',\n",
       " 'What currency are you currently paid in?',\n",
       " 'Approximately how many hours a day do you currently work?',\n",
       " '\"As far as you are aware',\n",
       " ' what was most important to your current employer about your qualification?\"',\n",
       " 'How do you find out about your job(s)?',\n",
       " '\"Thinking about your current employment',\n",
       " ' did you work for your employer before or during your  higher education study?\"',\n",
       " 'Which form of transport do you use the most?',\n",
       " 'Were you able to rent an apartment or buy a car from the salary you got from your first job?',\n",
       " 'My course of study prepared me well for employment',\n",
       " 'My course of study prepared me well for further studies',\n",
       " 'Which of these skills/knowledge did your higher education prepare you for?\\n']"
      ]
     },
     "execution_count": 65,
     "metadata": {},
     "output_type": "execute_result"
    }
   ],
   "source": [
    "captions_splitted"
   ]
  },
  {
   "cell_type": "code",
   "execution_count": 66,
   "metadata": {},
   "outputs": [],
   "source": [
    "ind_1=results[1]"
   ]
  },
  {
   "cell_type": "code",
   "execution_count": 67,
   "metadata": {},
   "outputs": [
    {
     "data": {
      "text/plain": [
       "'2/8/2018 9:05:23,Male,2013,Electrical & Electronic Engineering,\"Obafemi Awolowo University,Ile-Ife\",Bachelor\\'s degree,Working full time (paid employment),3,,,,Experience,,Technology,\"â€Žâ‚¦50,000 - â€Žâ‚¦99,999\",No: the qualification was not required,It fitted into my career plan/it was exactly the type of work I wanted,Managerial,,Technology,\"â€Žâ‚¦200,000 - â€Žâ‚¦249,999\",,It fitted into my career plan/it was exactly the type of work I wanted,NNPC,,Engineering,Naira,8,No one thing was important,Internship,No,Bus,Yes: From my first job,No,No,\"Critical thinking skills, Ability to solve complex problems, Written communication skills, Spoken communication skills\"\\n'"
      ]
     },
     "execution_count": 67,
     "metadata": {},
     "output_type": "execute_result"
    }
   ],
   "source": [
    "ind_1"
   ]
  },
  {
   "cell_type": "code",
   "execution_count": null,
   "metadata": {},
   "outputs": [],
   "source": [
    "read cvs module and how to use it."
   ]
  }
 ],
 "metadata": {
  "kernelspec": {
   "display_name": "Python 3",
   "language": "python",
   "name": "python3"
  },
  "language_info": {
   "codemirror_mode": {
    "name": "ipython",
    "version": 3
   },
   "file_extension": ".py",
   "mimetype": "text/x-python",
   "name": "python",
   "nbconvert_exporter": "python",
   "pygments_lexer": "ipython3",
   "version": "3.7.3"
  }
 },
 "nbformat": 4,
 "nbformat_minor": 2
}
