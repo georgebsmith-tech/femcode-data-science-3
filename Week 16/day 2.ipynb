{
 "cells": [
  {
   "cell_type": "code",
   "execution_count": null,
   "metadata": {},
   "outputs": [],
   "source": [
    "n=5\n",
    "p=4\n",
    "gridSearchCV, cv=5\n",
    "randomiseSearchCV"
   ]
  },
  {
   "cell_type": "code",
   "execution_count": 3,
   "metadata": {},
   "outputs": [],
   "source": [
    "from sklearn.datasets import load_breast_cancer"
   ]
  },
  {
   "cell_type": "code",
   "execution_count": 4,
   "metadata": {},
   "outputs": [],
   "source": [
    "cancer= load_breast_cancer()\n",
    "X=cancer.data\n",
    "y=cancer.target"
   ]
  },
  {
   "cell_type": "code",
   "execution_count": 5,
   "metadata": {},
   "outputs": [],
   "source": [
    "from sklearn.neighbors import KNeighborsClassifier"
   ]
  },
  {
   "cell_type": "code",
   "execution_count": 6,
   "metadata": {},
   "outputs": [],
   "source": [
    "knn=KNeighborsClassifier()"
   ]
  },
  {
   "cell_type": "code",
   "execution_count": 7,
   "metadata": {},
   "outputs": [],
   "source": [
    "from sklearn.model_selection import GridSearchCV"
   ]
  },
  {
   "cell_type": "code",
   "execution_count": 16,
   "metadata": {},
   "outputs": [],
   "source": [
    "model=GridSearchCV(knn,\n",
    "                   param_grid={\"p\":range(1,21),\n",
    "                               \"n_neighbors\":range(1,41)},\n",
    "                   cv=5)"
   ]
  },
  {
   "cell_type": "code",
   "execution_count": 10,
   "metadata": {},
   "outputs": [
    {
     "data": {
      "text/plain": [
       "GridSearchCV(cv=5, error_score='raise-deprecating',\n",
       "             estimator=KNeighborsClassifier(algorithm='auto', leaf_size=30,\n",
       "                                            metric='minkowski',\n",
       "                                            metric_params=None, n_jobs=None,\n",
       "                                            n_neighbors=5, p=2,\n",
       "                                            weights='uniform'),\n",
       "             iid='warn', n_jobs=None,\n",
       "             param_grid={'n_neighbors': [2, 3, 4, 5, 6], 'p': [2, 1, 4, 6]},\n",
       "             pre_dispatch='2*n_jobs', refit=True, return_train_score=False,\n",
       "             scoring=None, verbose=0)"
      ]
     },
     "execution_count": 10,
     "metadata": {},
     "output_type": "execute_result"
    }
   ],
   "source": [
    "model"
   ]
  },
  {
   "cell_type": "code",
   "execution_count": 17,
   "metadata": {},
   "outputs": [
    {
     "data": {
      "text/plain": [
       "GridSearchCV(cv=5, error_score='raise-deprecating',\n",
       "             estimator=KNeighborsClassifier(algorithm='auto', leaf_size=30,\n",
       "                                            metric='minkowski',\n",
       "                                            metric_params=None, n_jobs=None,\n",
       "                                            n_neighbors=5, p=2,\n",
       "                                            weights='uniform'),\n",
       "             iid='warn', n_jobs=None,\n",
       "             param_grid={'n_neighbors': range(1, 41), 'p': range(1, 21)},\n",
       "             pre_dispatch='2*n_jobs', refit=True, return_train_score=False,\n",
       "             scoring=None, verbose=0)"
      ]
     },
     "execution_count": 17,
     "metadata": {},
     "output_type": "execute_result"
    }
   ],
   "source": [
    "model.fit(X,y)"
   ]
  },
  {
   "cell_type": "code",
   "execution_count": 18,
   "metadata": {},
   "outputs": [
    {
     "data": {
      "text/plain": [
       "0.9543057996485061"
      ]
     },
     "execution_count": 18,
     "metadata": {},
     "output_type": "execute_result"
    }
   ],
   "source": [
    "model.score(X,y)"
   ]
  },
  {
   "cell_type": "code",
   "execution_count": 13,
   "metadata": {},
   "outputs": [
    {
     "data": {
      "text/plain": [
       "{'cv': 5,\n",
       " 'error_score': 'raise-deprecating',\n",
       " 'estimator__algorithm': 'auto',\n",
       " 'estimator__leaf_size': 30,\n",
       " 'estimator__metric': 'minkowski',\n",
       " 'estimator__metric_params': None,\n",
       " 'estimator__n_jobs': None,\n",
       " 'estimator__n_neighbors': 5,\n",
       " 'estimator__p': 2,\n",
       " 'estimator__weights': 'uniform',\n",
       " 'estimator': KNeighborsClassifier(algorithm='auto', leaf_size=30, metric='minkowski',\n",
       "                      metric_params=None, n_jobs=None, n_neighbors=5, p=2,\n",
       "                      weights='uniform'),\n",
       " 'iid': 'warn',\n",
       " 'n_jobs': None,\n",
       " 'param_grid': {'p': [2, 1, 4, 6], 'n_neighbors': [2, 3, 4, 5, 6]},\n",
       " 'pre_dispatch': '2*n_jobs',\n",
       " 'refit': True,\n",
       " 'return_train_score': False,\n",
       " 'scoring': None,\n",
       " 'verbose': 0}"
      ]
     },
     "execution_count": 13,
     "metadata": {},
     "output_type": "execute_result"
    }
   ],
   "source": [
    "model.get_params()"
   ]
  },
  {
   "cell_type": "code",
   "execution_count": 19,
   "metadata": {},
   "outputs": [
    {
     "data": {
      "text/plain": [
       "{'n_neighbors': 9, 'p': 1}"
      ]
     },
     "execution_count": 19,
     "metadata": {},
     "output_type": "execute_result"
    }
   ],
   "source": [
    "model.best_params_"
   ]
  },
  {
   "cell_type": "code",
   "execution_count": 15,
   "metadata": {},
   "outputs": [
    {
     "data": {
      "text/plain": [
       "{'mean_fit_time': array([0.04697146, 0.00099916, 0.00080013, 0.00119948, 0.001057  ,\n",
       "        0.00140023, 0.00099945, 0.00100012, 0.00160012, 0.00099931,\n",
       "        0.0010004 , 0.00119967, 0.00119963, 0.00119958, 0.00099959,\n",
       "        0.00139923, 0.00099955, 0.00099993, 0.00159917, 0.00159879]),\n",
       " 'std_fit_time': array([9.04474097e-02, 2.78041453e-07, 4.00067569e-04, 3.99947206e-04,\n",
       "        6.42991642e-04, 8.00492018e-04, 3.37174788e-07, 7.89305942e-07,\n",
       "        7.99525415e-04, 6.31806618e-04, 8.39558452e-07, 3.99375627e-04,\n",
       "        3.99757750e-04, 3.98946076e-04, 4.42200589e-07, 1.01947761e-03,\n",
       "        4.90933902e-07, 6.32486574e-04, 4.89473903e-04, 7.99691860e-04]),\n",
       " 'mean_score_time': array([0.01938705, 0.00859485, 0.02438416, 0.02178631, 0.00899224,\n",
       "        0.00879321, 0.02298579, 0.02678246, 0.01778874, 0.00865583,\n",
       "        0.02078624, 0.02398462, 0.00839462, 0.00759482, 0.02218609,\n",
       "        0.02258582, 0.00832868, 0.00839372, 0.02498407, 0.0255846 ]),\n",
       " 'std_score_time': array([0.01786159, 0.00135644, 0.0040276 , 0.00213413, 0.00126596,\n",
       "        0.00171799, 0.00340335, 0.00607613, 0.00370926, 0.00269242,\n",
       "        0.00213568, 0.00460166, 0.00233115, 0.00080025, 0.00248   ,\n",
       "        0.00174335, 0.00261546, 0.00135625, 0.00316111, 0.00272589]),\n",
       " 'param_n_neighbors': masked_array(data=[2, 2, 2, 2, 3, 3, 3, 3, 4, 4, 4, 4, 5, 5, 5, 5, 6, 6,\n",
       "                    6, 6],\n",
       "              mask=[False, False, False, False, False, False, False, False,\n",
       "                    False, False, False, False, False, False, False, False,\n",
       "                    False, False, False, False],\n",
       "        fill_value='?',\n",
       "             dtype=object),\n",
       " 'param_p': masked_array(data=[2, 1, 4, 6, 2, 1, 4, 6, 2, 1, 4, 6, 2, 1, 4, 6, 2, 1,\n",
       "                    4, 6],\n",
       "              mask=[False, False, False, False, False, False, False, False,\n",
       "                    False, False, False, False, False, False, False, False,\n",
       "                    False, False, False, False],\n",
       "        fill_value='?',\n",
       "             dtype=object),\n",
       " 'params': [{'n_neighbors': 2, 'p': 2},\n",
       "  {'n_neighbors': 2, 'p': 1},\n",
       "  {'n_neighbors': 2, 'p': 4},\n",
       "  {'n_neighbors': 2, 'p': 6},\n",
       "  {'n_neighbors': 3, 'p': 2},\n",
       "  {'n_neighbors': 3, 'p': 1},\n",
       "  {'n_neighbors': 3, 'p': 4},\n",
       "  {'n_neighbors': 3, 'p': 6},\n",
       "  {'n_neighbors': 4, 'p': 2},\n",
       "  {'n_neighbors': 4, 'p': 1},\n",
       "  {'n_neighbors': 4, 'p': 4},\n",
       "  {'n_neighbors': 4, 'p': 6},\n",
       "  {'n_neighbors': 5, 'p': 2},\n",
       "  {'n_neighbors': 5, 'p': 1},\n",
       "  {'n_neighbors': 5, 'p': 4},\n",
       "  {'n_neighbors': 5, 'p': 6},\n",
       "  {'n_neighbors': 6, 'p': 2},\n",
       "  {'n_neighbors': 6, 'p': 1},\n",
       "  {'n_neighbors': 6, 'p': 4},\n",
       "  {'n_neighbors': 6, 'p': 6}],\n",
       " 'split0_test_score': array([0.89565217, 0.89565217, 0.86956522, 0.86956522, 0.87826087,\n",
       "        0.89565217, 0.88695652, 0.88695652, 0.89565217, 0.90434783,\n",
       "        0.88695652, 0.87826087, 0.88695652, 0.89565217, 0.86956522,\n",
       "        0.86956522, 0.89565217, 0.88695652, 0.88695652, 0.88695652]),\n",
       " 'split1_test_score': array([0.91304348, 0.93913043, 0.91304348, 0.91304348, 0.92173913,\n",
       "        0.93043478, 0.92173913, 0.92173913, 0.92173913, 0.92173913,\n",
       "        0.92173913, 0.92173913, 0.93913043, 0.93043478, 0.93913043,\n",
       "        0.93913043, 0.93913043, 0.93043478, 0.93913043, 0.93913043]),\n",
       " 'split2_test_score': array([0.92920354, 0.9380531 , 0.92920354, 0.92920354, 0.94690265,\n",
       "        0.95575221, 0.92920354, 0.92920354, 0.94690265, 0.95575221,\n",
       "        0.9380531 , 0.9380531 , 0.9380531 , 0.95575221, 0.9380531 ,\n",
       "        0.9380531 , 0.9380531 , 0.97345133, 0.9380531 , 0.9380531 ]),\n",
       " 'split3_test_score': array([0.89380531, 0.90265487, 0.88495575, 0.88495575, 0.9380531 ,\n",
       "        0.9380531 , 0.92035398, 0.92035398, 0.9380531 , 0.94690265,\n",
       "        0.92920354, 0.92035398, 0.94690265, 0.94690265, 0.94690265,\n",
       "        0.94690265, 0.92920354, 0.95575221, 0.9380531 , 0.9380531 ]),\n",
       " 'split4_test_score': array([0.89380531, 0.89380531, 0.88495575, 0.88495575, 0.91150442,\n",
       "        0.92035398, 0.89380531, 0.89380531, 0.90265487, 0.92920354,\n",
       "        0.90265487, 0.90265487, 0.92920354, 0.92920354, 0.91150442,\n",
       "        0.92035398, 0.92035398, 0.9380531 , 0.92035398, 0.92035398]),\n",
       " 'mean_test_score': array([0.90509666, 0.91388401, 0.89630931, 0.89630931, 0.91915641,\n",
       "        0.92794376, 0.91036907, 0.91036907, 0.92091388, 0.9314587 ,\n",
       "        0.91564148, 0.91212654, 0.92794376, 0.9314587 , 0.92091388,\n",
       "        0.92267135, 0.92442882, 0.93673111, 0.92442882, 0.92442882]),\n",
       " 'std_test_score': array([0.01403004, 0.02042339, 0.0216157 , 0.0216157 , 0.0239749 ,\n",
       "        0.01993272, 0.01678237, 0.01678237, 0.01969251, 0.01825448,\n",
       "        0.01853607, 0.020377  , 0.02137334, 0.02061359, 0.02846086,\n",
       "        0.02809646, 0.01599178, 0.02913275, 0.02011227, 0.02011227]),\n",
       " 'rank_test_score': array([18, 14, 19, 19, 12,  4, 16, 16, 10,  2, 13, 15,  4,  2, 10,  9,  6,\n",
       "         1,  6,  6])}"
      ]
     },
     "execution_count": 15,
     "metadata": {},
     "output_type": "execute_result"
    }
   ],
   "source": [
    "model.cv_results_"
   ]
  },
  {
   "cell_type": "code",
   "execution_count": null,
   "metadata": {},
   "outputs": [],
   "source": []
  }
 ],
 "metadata": {
  "kernelspec": {
   "display_name": "Python 3",
   "language": "python",
   "name": "python3"
  },
  "language_info": {
   "codemirror_mode": {
    "name": "ipython",
    "version": 3
   },
   "file_extension": ".py",
   "mimetype": "text/x-python",
   "name": "python",
   "nbconvert_exporter": "python",
   "pygments_lexer": "ipython3",
   "version": "3.7.3"
  }
 },
 "nbformat": 4,
 "nbformat_minor": 2
}
