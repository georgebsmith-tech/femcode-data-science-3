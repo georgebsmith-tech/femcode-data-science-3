{
 "cells": [
  {
   "cell_type": "code",
   "execution_count": 11,
   "metadata": {},
   "outputs": [],
   "source": [
    "def corr_num(x_data,y_data):\n",
    "    sum_x=sum(x_data)\n",
    "    sum_y=sum(y_data)\n",
    "    n=len(x_data)\n",
    "    sum_xy=0\n",
    "    for i in range(n):\n",
    "        sum_xy += x_data[i]*y_data[i]\n",
    "    return (n*sum_xy-sum_x*sum_y)"
   ]
  },
  {
   "cell_type": "code",
   "execution_count": 12,
   "metadata": {},
   "outputs": [
    {
     "data": {
      "text/plain": [
       "3"
      ]
     },
     "execution_count": 12,
     "metadata": {},
     "output_type": "execute_result"
    }
   ],
   "source": [
    "corr_num([4,3,1],[2,5,2])"
   ]
  },
  {
   "cell_type": "code",
   "execution_count": 15,
   "metadata": {},
   "outputs": [],
   "source": [
    "def corr_den(x_data,y_data):\n",
    "    sum_x=sum(x_data)\n",
    "    sum_y=sum(y_data)\n",
    "    n=len(x_data)\n",
    "    sum_y_sq=0\n",
    "    sum_x_sq=0\n",
    "    for i in range(n):\n",
    "        sum_x_sq +=x_data[i]**2\n",
    "        sum_y_sq +=y_data[i]**2\n",
    "    return ((n*sum_x_sq-sum_x**2)*(n*sum_y_sq-sum_y**2))**0.5\n",
    "    \n",
    "    "
   ]
  },
  {
   "cell_type": "code",
   "execution_count": 16,
   "metadata": {},
   "outputs": [
    {
     "data": {
      "text/plain": [
       "15.874507866387544"
      ]
     },
     "execution_count": 16,
     "metadata": {},
     "output_type": "execute_result"
    }
   ],
   "source": [
    "corr_den([4,3,1],[2,5,2])"
   ]
  },
  {
   "cell_type": "code",
   "execution_count": 17,
   "metadata": {},
   "outputs": [
    {
     "data": {
      "text/plain": [
       "0.1889822365046136"
      ]
     },
     "execution_count": 17,
     "metadata": {},
     "output_type": "execute_result"
    }
   ],
   "source": [
    "corr_num([4,3,1],[2,5,2])/corr_den([4,3,1],[2,5,2])"
   ]
  },
  {
   "cell_type": "code",
   "execution_count": 18,
   "metadata": {},
   "outputs": [],
   "source": [
    "def corr(x_data,y_data):\n",
    "    return corr_num(x_data,y_data)/corr_den(x_data,y_data)"
   ]
  },
  {
   "cell_type": "code",
   "execution_count": 20,
   "metadata": {},
   "outputs": [
    {
     "data": {
      "text/plain": [
       "0.9140141618451363"
      ]
     },
     "execution_count": 20,
     "metadata": {},
     "output_type": "execute_result"
    }
   ],
   "source": [
    "corr([4,3,1,12],[2,5,2,10])"
   ]
  },
  {
   "cell_type": "code",
   "execution_count": null,
   "metadata": {},
   "outputs": [],
   "source": []
  }
 ],
 "metadata": {
  "kernelspec": {
   "display_name": "Python 3",
   "language": "python",
   "name": "python3"
  },
  "language_info": {
   "codemirror_mode": {
    "name": "ipython",
    "version": 3
   },
   "file_extension": ".py",
   "mimetype": "text/x-python",
   "name": "python",
   "nbconvert_exporter": "python",
   "pygments_lexer": "ipython3",
   "version": "3.7.3"
  }
 },
 "nbformat": 4,
 "nbformat_minor": 2
}
